{
 "cells": [
  {
   "cell_type": "code",
   "execution_count": 1,
   "id": "47d00113-1aa4-4f8e-91d8-bf020884ce90",
   "metadata": {},
   "outputs": [],
   "source": [
    "import math\n",
    "import numpy as np\n",
    "import matplotlib.pyplot as plt\n",
    "%matplotlib inline\n",
    "import math\n",
    "import random"
   ]
  },
  {
   "cell_type": "code",
   "execution_count": 2,
   "id": "c64e7847-408f-4591-8e24-d8b238c6e7cb",
   "metadata": {},
   "outputs": [],
   "source": [
    "def f(x):\n",
    "    return x**2+2*x+4"
   ]
  },
  {
   "cell_type": "code",
   "execution_count": 3,
   "id": "d8991aa2-83da-486f-9e5d-4514d2a85c0d",
   "metadata": {},
   "outputs": [
    {
     "data": {
      "text/plain": [
       "19.0"
      ]
     },
     "execution_count": 3,
     "metadata": {},
     "output_type": "execute_result"
    }
   ],
   "source": [
    "f(3.0)"
   ]
  },
  {
   "cell_type": "code",
   "execution_count": 4,
   "id": "8343dbf7-0b9b-4bba-9cb2-45c935e271ef",
   "metadata": {},
   "outputs": [],
   "source": [
    "xs=np.arange(-5,5,0.25)"
   ]
  },
  {
   "cell_type": "code",
   "execution_count": 5,
   "id": "924c992c-b9e7-47b7-ae79-964b3e4c1030",
   "metadata": {},
   "outputs": [],
   "source": [
    "ys=f(xs)"
   ]
  },
  {
   "cell_type": "code",
   "execution_count": 6,
   "id": "51e34590-a1aa-4ff2-9c13-57ac85d4017f",
   "metadata": {},
   "outputs": [
    {
     "data": {
      "text/plain": [
       "[<matplotlib.lines.Line2D at 0x2ced6917b30>]"
      ]
     },
     "execution_count": 6,
     "metadata": {},
     "output_type": "execute_result"
    },
    {
     "data": {
      "image/png": "[encoded data removed]",
      "text/plain": [
       "<Figure size 640x480 with 1 Axes>"
      ]
     },
     "metadata": {},
     "output_type": "display_data"
    }
   ],
   "source": [
    "plt.plot(xs,ys)\n"
   ]
  },
  {
   "cell_type": "code",
   "execution_count": 7,
   "id": "84034179-3517-4b8f-bc6b-3154134364d8",
   "metadata": {},
   "outputs": [],
   "source": [
    "class Value:\n",
    "    def __init__(self,data,_children=(),_op='',label=''):\n",
    "        self.data=data\n",
    "        self.grad=0.0 #Doesn't change the output. Has no effect.\n",
    "        self._prev=set(_children)\n",
    "        self._backward=lambda: None\n",
    "        self._op=_op\n",
    "        self.label=label\n",
    "    def __repr__(self):\n",
    "        return f\"Value(data={self.data})\"\n",
    "    def __add__(self,other):\n",
    "        other=other if isinstance(other, Value) else Value(other)\n",
    "        out=Value(self.data+other.data,(self,other),'+')\n",
    "        def _backward():\n",
    "            self.grad+=1.0*out.grad\n",
    "            other.grad+=1.0*out.grad\n",
    "        out._backward=_backward #we store the function here.\n",
    "        return out\n",
    "        \n",
    "    def __sub__(self, other):\n",
    "        return self+(-other)\n",
    "        \n",
    "    def __mul__(self,other):\n",
    "        other=other if isinstance(other, Value) else Value(other)\n",
    "        out=Value(self.data*other.data,(self,other),'*')\n",
    "        \n",
    "        def _backward():\n",
    "            self.grad+=other.data*out.grad\n",
    "            other.grad+=self.data*out.grad\n",
    "        out._backward=_backward\n",
    "        return out\n",
    "        \n",
    "    def __rmul__(self, other):\n",
    "        return self*other\n",
    "        \n",
    "    def __pow__(self, other):\n",
    "        assert isinstance(other, (int,float)), \"only supporting int/float powers for now\"\n",
    "        out = Value(self.data**other, (self,),f'**{other}')  \n",
    "        def _backward():\n",
    "            self.grad+=other*(self.data**(other-1))*out.grad #first part is the local derivative only. total is derivative wrt final o\n",
    "        out._backward=_backward\n",
    "        return out\n",
    "        \n",
    "    def __truediv__(self,other):\n",
    "        return self*other**-1\n",
    "\n",
    "    def __radd__(self,other):\n",
    "        return self+other\n",
    "        \n",
    "    def tanh(self):\n",
    "        x=self.data\n",
    "        t=(math.exp(2*x)-1)/(math.exp(2*x)+1)\n",
    "        out=Value(t,(self,),'tanh')\n",
    "        def _backward():\n",
    "            self.grad+=(1-t**2)*out.grad\n",
    "        out._backward=_backward\n",
    "        return out\n",
    "    def exp(self):\n",
    "        x=self.data\n",
    "        out=Value(math.exp(x), (self,),'exp')\n",
    "        def _backward():\n",
    "            self.grad+=out.data*out.grad \n",
    "        out._backward=_backward\n",
    "        return out\n",
    "    def backward(self):\n",
    "        topo=[]\n",
    "        visited=set()\n",
    "        def build_topo(v):\n",
    "            if v not in visited:\n",
    "                visited.add(v)\n",
    "                for child in v._prev:\n",
    "                    build_topo(child)\n",
    "                topo.append(v)\n",
    "        build_topo(self)\n",
    "        topo\n",
    "        self.grad=1.0\n",
    "        for node in reversed(topo):\n",
    "            node._backward()\n",
    "        "
   ]
  },
  {
   "cell_type": "code",
   "execution_count": 8,
   "id": "41603589-1cf1-4707-b7ad-346ffe8dcf6c",
   "metadata": {},
   "outputs": [],
   "source": [
    "# inputs x1,x2\n",
    "x1=Value(2.0,label='x1')\n",
    "x2=Value(0.0,label='x2')\n",
    "\n",
    "w1=Value(-3.0,label='w1')\n",
    "w2=Value(1.0,label='w2')\n",
    "\n",
    "b=Value(6.88137358701995432,label='b')\n",
    "\n",
    "x1w1=x1*w1; x1w1.label ='x1*w1'\n",
    "x2w2=x2*w2; x2w2.label ='x2*w2'\n",
    "x1w1x2w2=x1w1+x2w2; x1w1x2w2.label='x1*w1+x2*w2'\n",
    "n= x1w1x2w2+b; n.label='n'\n",
    "o=n.tanh(); o.label='o'\n",
    "o.backward()"
   ]
  },
  {
   "cell_type": "code",
   "execution_count": null,
   "id": "7776dc61-8c7f-40b6-a4f1-c55750896ef7",
   "metadata": {},
   "outputs": [],
   "source": []
  },
  {
   "cell_type": "code",
   "execution_count": null,
   "id": "eeb2dad9-1941-44b3-99e6-7826c6ae0ef7",
   "metadata": {},
   "outputs": [],
   "source": []
  },
  {
   "cell_type": "code",
   "execution_count": null,
   "id": "17cbf27b-daa9-46be-91d6-3227bdf1c67f",
   "metadata": {},
   "outputs": [],
   "source": []
  },
  {
   "cell_type": "code",
   "execution_count": 9,
   "id": "14e76bb5-7aa5-4075-8c1d-fe24cd32e127",
   "metadata": {},
   "outputs": [],
   "source": [
    "from graphviz import Digraph\n",
    "\n",
    "def trace(root):\n",
    "    # Builds a set of all nodes and edges in a graph\n",
    "    nodes, edges = set(), set()\n",
    "    def build(v):\n",
    "        if v not in nodes:\n",
    "            nodes.add(v)\n",
    "            for child in v._prev:\n",
    "                edges.add((child, v))\n",
    "                build(child)\n",
    "    build(root)\n",
    "    return nodes, edges\n",
    "\n",
    "def draw_dot(root):\n",
    "    dot = Digraph(format=\"svg\", graph_attr={'rankdir': 'LR'})  # LR = left to right\n",
    "    nodes, edges = trace(root)\n",
    "    \n",
    "    for n in nodes:\n",
    "        uid = str(id(n))\n",
    "        # For any value in the graph, create a rectangular ('record') node for it\n",
    "        dot.node(name=uid, label=\"{%s | data %.4f| grad %.4f }\" % (n.label,n.data,n.grad), shape='record')\n",
    "        if n._op:\n",
    "            # If this value is a result of some operation, create an op node for it\n",
    "            dot.node(name=uid + n._op, label=n._op)\n",
    "            # And connect this node to it\n",
    "            dot.edge(uid + n._op, uid)\n",
    "    \n",
    "    for n1, n2 in edges:\n",
    "        # Connect n2 to the op node of n2\n",
    "        dot.edge(str(id(n1)), str(id(n2)) + n2._op)\n",
    "\n",
    "    return dot\n"
   ]
  },
  {
   "cell_type": "code",
   "execution_count": 10,
   "id": "fc8bbff9-6d36-4ca3-8cbd-cbc9e098eccd",
   "metadata": {},
   "outputs": [
    {
     "data": {
      "image/svg+xml": [
       "<?xml version=\"1.0\" encoding=\"UTF-8\" standalone=\"no\"?>\n",
       "<!DOCTYPE svg PUBLIC \"-//W3C//DTD SVG 1.1//EN\"\n",
       " \"http://www.w3.org/Graphics/SVG/1.1/DTD/svg11.dtd\">\n",
       "<!-- Generated by graphviz version 2.50.0 (0)\n",
       " -->\n",
       "<!-- Pages: 1 -->\n",
       "<svg width=\"1567pt\" height=\"210pt\"\n",
       " viewBox=\"0.00 0.00 1567.00 210.00\" xmlns=\"http://www.w3.org/2000/svg\" xmlns:xlink=\"http://www.w3.org/1999/xlink\">\n",
       "<g id=\"graph0\" class=\"graph\" transform=\"scale(1 1) rotate(0) translate(4 206)\">\n",
       "<polygon fill=\"white\" stroke=\"transparent\" points=\"-4,4 -4,-206 1563,-206 1563,4 -4,4\"/>\n",
       "<!-- 3087386775616 -->\n",
       "<g id=\"node1\" class=\"node\">\n",
       "<title>3087386775616</title>\n",
       "<polygon fill=\"none\" stroke=\"black\" points=\"1063,-54.5 1063,-90.5 1248,-90.5 1248,-54.5 1063,-54.5\"/>\n",
       "<text text-anchor=\"middle\" x=\"1074.5\" y=\"-68.8\" font-family=\"Times New Roman,serif\" font-size=\"14.00\">n</text>\n",
       "<polyline fill=\"none\" stroke=\"black\" points=\"1086,-54.5 1086,-90.5 \"/>\n",
       "<text text-anchor=\"middle\" x=\"1126\" y=\"-68.8\" font-family=\"Times New Roman,serif\" font-size=\"14.00\">data 0.8814</text>\n",
       "<polyline fill=\"none\" stroke=\"black\" points=\"1166,-54.5 1166,-90.5 \"/>\n",
       "<text text-anchor=\"middle\" x=\"1207\" y=\"-68.8\" font-family=\"Times New Roman,serif\" font-size=\"14.00\">grad 0.5000</text>\n",
       "</g>\n",
       "<!-- 3087385710848tanh -->\n",
       "<g id=\"node12\" class=\"node\">\n",
       "<title>3087385710848tanh</title>\n",
       "<ellipse fill=\"none\" stroke=\"black\" cx=\"1311\" cy=\"-72.5\" rx=\"27\" ry=\"18\"/>\n",
       "<text text-anchor=\"middle\" x=\"1311\" y=\"-68.8\" font-family=\"Times New Roman,serif\" font-size=\"14.00\">tanh</text>\n",
       "</g>\n",
       "<!-- 3087386775616&#45;&gt;3087385710848tanh -->\n",
       "<g id=\"edge12\" class=\"edge\">\n",
       "<title>3087386775616&#45;&gt;3087385710848tanh</title>\n",
       "<path fill=\"none\" stroke=\"black\" d=\"M1248.01,-72.5C1257.01,-72.5 1265.74,-72.5 1273.66,-72.5\"/>\n",
       "<polygon fill=\"black\" stroke=\"black\" points=\"1273.91,-76 1283.91,-72.5 1273.91,-69 1273.91,-76\"/>\n",
       "</g>\n",
       "<!-- 3087386775616+ -->\n",
       "<g id=\"node2\" class=\"node\">\n",
       "<title>3087386775616+</title>\n",
       "<ellipse fill=\"none\" stroke=\"black\" cx=\"1000\" cy=\"-72.5\" rx=\"27\" ry=\"18\"/>\n",
       "<text text-anchor=\"middle\" x=\"1000\" y=\"-68.8\" font-family=\"Times New Roman,serif\" font-size=\"14.00\">+</text>\n",
       "</g>\n",
       "<!-- 3087386775616+&#45;&gt;3087386775616 -->\n",
       "<g id=\"edge1\" class=\"edge\">\n",
       "<title>3087386775616+&#45;&gt;3087386775616</title>\n",
       "<path fill=\"none\" stroke=\"black\" d=\"M1027.04,-72.5C1034.58,-72.5 1043.3,-72.5 1052.57,-72.5\"/>\n",
       "<polygon fill=\"black\" stroke=\"black\" points=\"1052.81,-76 1062.81,-72.5 1052.81,-69 1052.81,-76\"/>\n",
       "</g>\n",
       "<!-- 3087386786896 -->\n",
       "<g id=\"node3\" class=\"node\">\n",
       "<title>3087386786896</title>\n",
       "<polygon fill=\"none\" stroke=\"black\" points=\"326,-110.5 326,-146.5 546,-146.5 546,-110.5 326,-110.5\"/>\n",
       "<text text-anchor=\"middle\" x=\"352.5\" y=\"-124.8\" font-family=\"Times New Roman,serif\" font-size=\"14.00\">x1*w1</text>\n",
       "<polyline fill=\"none\" stroke=\"black\" points=\"379,-110.5 379,-146.5 \"/>\n",
       "<text text-anchor=\"middle\" x=\"421.5\" y=\"-124.8\" font-family=\"Times New Roman,serif\" font-size=\"14.00\">data &#45;6.0000</text>\n",
       "<polyline fill=\"none\" stroke=\"black\" points=\"464,-110.5 464,-146.5 \"/>\n",
       "<text text-anchor=\"middle\" x=\"505\" y=\"-124.8\" font-family=\"Times New Roman,serif\" font-size=\"14.00\">grad 0.5000</text>\n",
       "</g>\n",
       "<!-- 3087386785984+ -->\n",
       "<g id=\"node10\" class=\"node\">\n",
       "<title>3087386785984+</title>\n",
       "<ellipse fill=\"none\" stroke=\"black\" cx=\"609\" cy=\"-100.5\" rx=\"27\" ry=\"18\"/>\n",
       "<text text-anchor=\"middle\" x=\"609\" y=\"-96.8\" font-family=\"Times New Roman,serif\" font-size=\"14.00\">+</text>\n",
       "</g>\n",
       "<!-- 3087386786896&#45;&gt;3087386785984+ -->\n",
       "<g id=\"edge13\" class=\"edge\">\n",
       "<title>3087386786896&#45;&gt;3087386785984+</title>\n",
       "<path fill=\"none\" stroke=\"black\" d=\"M546.27,-110.61C555.64,-109.07 564.6,-107.61 572.65,-106.29\"/>\n",
       "<polygon fill=\"black\" stroke=\"black\" points=\"573.35,-109.72 582.65,-104.65 572.22,-102.81 573.35,-109.72\"/>\n",
       "</g>\n",
       "<!-- 3087386786896* -->\n",
       "<g id=\"node4\" class=\"node\">\n",
       "<title>3087386786896*</title>\n",
       "<ellipse fill=\"none\" stroke=\"black\" cx=\"263\" cy=\"-128.5\" rx=\"27\" ry=\"18\"/>\n",
       "<text text-anchor=\"middle\" x=\"263\" y=\"-124.8\" font-family=\"Times New Roman,serif\" font-size=\"14.00\">*</text>\n",
       "</g>\n",
       "<!-- 3087386786896*&#45;&gt;3087386786896 -->\n",
       "<g id=\"edge2\" class=\"edge\">\n",
       "<title>3087386786896*&#45;&gt;3087386786896</title>\n",
       "<path fill=\"none\" stroke=\"black\" d=\"M290.34,-128.5C297.77,-128.5 306.37,-128.5 315.6,-128.5\"/>\n",
       "<polygon fill=\"black\" stroke=\"black\" points=\"315.84,-132 325.84,-128.5 315.84,-125 315.84,-132\"/>\n",
       "</g>\n",
       "<!-- 3087386364480 -->\n",
       "<g id=\"node5\" class=\"node\">\n",
       "<title>3087386364480</title>\n",
       "<polygon fill=\"none\" stroke=\"black\" points=\"2,-165.5 2,-201.5 198,-201.5 198,-165.5 2,-165.5\"/>\n",
       "<text text-anchor=\"middle\" x=\"17\" y=\"-179.8\" font-family=\"Times New Roman,serif\" font-size=\"14.00\">x1</text>\n",
       "<polyline fill=\"none\" stroke=\"black\" points=\"32,-165.5 32,-201.5 \"/>\n",
       "<text text-anchor=\"middle\" x=\"72\" y=\"-179.8\" font-family=\"Times New Roman,serif\" font-size=\"14.00\">data 2.0000</text>\n",
       "<polyline fill=\"none\" stroke=\"black\" points=\"112,-165.5 112,-201.5 \"/>\n",
       "<text text-anchor=\"middle\" x=\"155\" y=\"-179.8\" font-family=\"Times New Roman,serif\" font-size=\"14.00\">grad &#45;1.5000</text>\n",
       "</g>\n",
       "<!-- 3087386364480&#45;&gt;3087386786896* -->\n",
       "<g id=\"edge6\" class=\"edge\">\n",
       "<title>3087386364480&#45;&gt;3087386786896*</title>\n",
       "<path fill=\"none\" stroke=\"black\" d=\"M172.53,-165.44C181.84,-162.67 191.2,-159.67 200,-156.5 210.53,-152.71 221.75,-147.9 231.72,-143.33\"/>\n",
       "<polygon fill=\"black\" stroke=\"black\" points=\"233.25,-146.48 240.82,-139.07 230.28,-140.14 233.25,-146.48\"/>\n",
       "</g>\n",
       "<!-- 3087386784832 -->\n",
       "<g id=\"node6\" class=\"node\">\n",
       "<title>3087386784832</title>\n",
       "<polygon fill=\"none\" stroke=\"black\" points=\"2.5,-55.5 2.5,-91.5 197.5,-91.5 197.5,-55.5 2.5,-55.5\"/>\n",
       "<text text-anchor=\"middle\" x=\"19\" y=\"-69.8\" font-family=\"Times New Roman,serif\" font-size=\"14.00\">w2</text>\n",
       "<polyline fill=\"none\" stroke=\"black\" points=\"35.5,-55.5 35.5,-91.5 \"/>\n",
       "<text text-anchor=\"middle\" x=\"75.5\" y=\"-69.8\" font-family=\"Times New Roman,serif\" font-size=\"14.00\">data 1.0000</text>\n",
       "<polyline fill=\"none\" stroke=\"black\" points=\"115.5,-55.5 115.5,-91.5 \"/>\n",
       "<text text-anchor=\"middle\" x=\"156.5\" y=\"-69.8\" font-family=\"Times New Roman,serif\" font-size=\"14.00\">grad 0.0000</text>\n",
       "</g>\n",
       "<!-- 3087386783584* -->\n",
       "<g id=\"node14\" class=\"node\">\n",
       "<title>3087386783584*</title>\n",
       "<ellipse fill=\"none\" stroke=\"black\" cx=\"263\" cy=\"-73.5\" rx=\"27\" ry=\"18\"/>\n",
       "<text text-anchor=\"middle\" x=\"263\" y=\"-69.8\" font-family=\"Times New Roman,serif\" font-size=\"14.00\">*</text>\n",
       "</g>\n",
       "<!-- 3087386784832&#45;&gt;3087386783584* -->\n",
       "<g id=\"edge9\" class=\"edge\">\n",
       "<title>3087386784832&#45;&gt;3087386783584*</title>\n",
       "<path fill=\"none\" stroke=\"black\" d=\"M197.91,-73.5C207.65,-73.5 217.05,-73.5 225.52,-73.5\"/>\n",
       "<polygon fill=\"black\" stroke=\"black\" points=\"225.7,-77 235.7,-73.5 225.7,-70 225.7,-77\"/>\n",
       "</g>\n",
       "<!-- 3087386377344 -->\n",
       "<g id=\"node7\" class=\"node\">\n",
       "<title>3087386377344</title>\n",
       "<polygon fill=\"none\" stroke=\"black\" points=\"0,-110.5 0,-146.5 200,-146.5 200,-110.5 0,-110.5\"/>\n",
       "<text text-anchor=\"middle\" x=\"16.5\" y=\"-124.8\" font-family=\"Times New Roman,serif\" font-size=\"14.00\">w1</text>\n",
       "<polyline fill=\"none\" stroke=\"black\" points=\"33,-110.5 33,-146.5 \"/>\n",
       "<text text-anchor=\"middle\" x=\"75.5\" y=\"-124.8\" font-family=\"Times New Roman,serif\" font-size=\"14.00\">data &#45;3.0000</text>\n",
       "<polyline fill=\"none\" stroke=\"black\" points=\"118,-110.5 118,-146.5 \"/>\n",
       "<text text-anchor=\"middle\" x=\"159\" y=\"-124.8\" font-family=\"Times New Roman,serif\" font-size=\"14.00\">grad 1.0000</text>\n",
       "</g>\n",
       "<!-- 3087386377344&#45;&gt;3087386786896* -->\n",
       "<g id=\"edge14\" class=\"edge\">\n",
       "<title>3087386377344&#45;&gt;3087386786896*</title>\n",
       "<path fill=\"none\" stroke=\"black\" d=\"M200.21,-128.5C209.2,-128.5 217.86,-128.5 225.7,-128.5\"/>\n",
       "<polygon fill=\"black\" stroke=\"black\" points=\"225.85,-132 235.85,-128.5 225.85,-125 225.85,-132\"/>\n",
       "</g>\n",
       "<!-- 3087386376336 -->\n",
       "<g id=\"node8\" class=\"node\">\n",
       "<title>3087386376336</title>\n",
       "<polygon fill=\"none\" stroke=\"black\" points=\"4,-0.5 4,-36.5 196,-36.5 196,-0.5 4,-0.5\"/>\n",
       "<text text-anchor=\"middle\" x=\"19\" y=\"-14.8\" font-family=\"Times New Roman,serif\" font-size=\"14.00\">x2</text>\n",
       "<polyline fill=\"none\" stroke=\"black\" points=\"34,-0.5 34,-36.5 \"/>\n",
       "<text text-anchor=\"middle\" x=\"74\" y=\"-14.8\" font-family=\"Times New Roman,serif\" font-size=\"14.00\">data 0.0000</text>\n",
       "<polyline fill=\"none\" stroke=\"black\" points=\"114,-0.5 114,-36.5 \"/>\n",
       "<text text-anchor=\"middle\" x=\"155\" y=\"-14.8\" font-family=\"Times New Roman,serif\" font-size=\"14.00\">grad 0.5000</text>\n",
       "</g>\n",
       "<!-- 3087386376336&#45;&gt;3087386783584* -->\n",
       "<g id=\"edge11\" class=\"edge\">\n",
       "<title>3087386376336&#45;&gt;3087386783584*</title>\n",
       "<path fill=\"none\" stroke=\"black\" d=\"M172.53,-36.56C181.84,-39.33 191.2,-42.33 200,-45.5 210.53,-49.29 221.75,-54.1 231.72,-58.67\"/>\n",
       "<polygon fill=\"black\" stroke=\"black\" points=\"230.28,-61.86 240.82,-62.93 233.25,-55.52 230.28,-61.86\"/>\n",
       "</g>\n",
       "<!-- 3087386785984 -->\n",
       "<g id=\"node9\" class=\"node\">\n",
       "<title>3087386785984</title>\n",
       "<polygon fill=\"none\" stroke=\"black\" points=\"672,-82.5 672,-118.5 937,-118.5 937,-82.5 672,-82.5\"/>\n",
       "<text text-anchor=\"middle\" x=\"721\" y=\"-96.8\" font-family=\"Times New Roman,serif\" font-size=\"14.00\">x1*w1+x2*w2</text>\n",
       "<polyline fill=\"none\" stroke=\"black\" points=\"770,-82.5 770,-118.5 \"/>\n",
       "<text text-anchor=\"middle\" x=\"812.5\" y=\"-96.8\" font-family=\"Times New Roman,serif\" font-size=\"14.00\">data &#45;6.0000</text>\n",
       "<polyline fill=\"none\" stroke=\"black\" points=\"855,-82.5 855,-118.5 \"/>\n",
       "<text text-anchor=\"middle\" x=\"896\" y=\"-96.8\" font-family=\"Times New Roman,serif\" font-size=\"14.00\">grad 0.5000</text>\n",
       "</g>\n",
       "<!-- 3087386785984&#45;&gt;3087386775616+ -->\n",
       "<g id=\"edge8\" class=\"edge\">\n",
       "<title>3087386785984&#45;&gt;3087386775616+</title>\n",
       "<path fill=\"none\" stroke=\"black\" d=\"M929.96,-82.49C941.92,-80.76 953.27,-79.12 963.17,-77.68\"/>\n",
       "<polygon fill=\"black\" stroke=\"black\" points=\"963.92,-81.11 973.32,-76.22 962.92,-74.18 963.92,-81.11\"/>\n",
       "</g>\n",
       "<!-- 3087386785984+&#45;&gt;3087386785984 -->\n",
       "<g id=\"edge3\" class=\"edge\">\n",
       "<title>3087386785984+&#45;&gt;3087386785984</title>\n",
       "<path fill=\"none\" stroke=\"black\" d=\"M636.1,-100.5C643.6,-100.5 652.35,-100.5 661.84,-100.5\"/>\n",
       "<polygon fill=\"black\" stroke=\"black\" points=\"661.98,-104 671.98,-100.5 661.98,-97 661.98,-104\"/>\n",
       "</g>\n",
       "<!-- 3087385710848 -->\n",
       "<g id=\"node11\" class=\"node\">\n",
       "<title>3087385710848</title>\n",
       "<polygon fill=\"none\" stroke=\"black\" points=\"1374,-54.5 1374,-90.5 1559,-90.5 1559,-54.5 1374,-54.5\"/>\n",
       "<text text-anchor=\"middle\" x=\"1385.5\" y=\"-68.8\" font-family=\"Times New Roman,serif\" font-size=\"14.00\">o</text>\n",
       "<polyline fill=\"none\" stroke=\"black\" points=\"1397,-54.5 1397,-90.5 \"/>\n",
       "<text text-anchor=\"middle\" x=\"1437\" y=\"-68.8\" font-family=\"Times New Roman,serif\" font-size=\"14.00\">data 0.7071</text>\n",
       "<polyline fill=\"none\" stroke=\"black\" points=\"1477,-54.5 1477,-90.5 \"/>\n",
       "<text text-anchor=\"middle\" x=\"1518\" y=\"-68.8\" font-family=\"Times New Roman,serif\" font-size=\"14.00\">grad 1.0000</text>\n",
       "</g>\n",
       "<!-- 3087385710848tanh&#45;&gt;3087385710848 -->\n",
       "<g id=\"edge4\" class=\"edge\">\n",
       "<title>3087385710848tanh&#45;&gt;3087385710848</title>\n",
       "<path fill=\"none\" stroke=\"black\" d=\"M1338.04,-72.5C1345.58,-72.5 1354.3,-72.5 1363.57,-72.5\"/>\n",
       "<polygon fill=\"black\" stroke=\"black\" points=\"1363.81,-76 1373.81,-72.5 1363.81,-69 1363.81,-76\"/>\n",
       "</g>\n",
       "<!-- 3087386783584 -->\n",
       "<g id=\"node13\" class=\"node\">\n",
       "<title>3087386783584</title>\n",
       "<polygon fill=\"none\" stroke=\"black\" points=\"328.5,-55.5 328.5,-91.5 543.5,-91.5 543.5,-55.5 328.5,-55.5\"/>\n",
       "<text text-anchor=\"middle\" x=\"355\" y=\"-69.8\" font-family=\"Times New Roman,serif\" font-size=\"14.00\">x2*w2</text>\n",
       "<polyline fill=\"none\" stroke=\"black\" points=\"381.5,-55.5 381.5,-91.5 \"/>\n",
       "<text text-anchor=\"middle\" x=\"421.5\" y=\"-69.8\" font-family=\"Times New Roman,serif\" font-size=\"14.00\">data 0.0000</text>\n",
       "<polyline fill=\"none\" stroke=\"black\" points=\"461.5,-55.5 461.5,-91.5 \"/>\n",
       "<text text-anchor=\"middle\" x=\"502.5\" y=\"-69.8\" font-family=\"Times New Roman,serif\" font-size=\"14.00\">grad 0.5000</text>\n",
       "</g>\n",
       "<!-- 3087386783584&#45;&gt;3087386785984+ -->\n",
       "<g id=\"edge10\" class=\"edge\">\n",
       "<title>3087386783584&#45;&gt;3087386785984+</title>\n",
       "<path fill=\"none\" stroke=\"black\" d=\"M543.84,-90.37C554.01,-91.98 563.76,-93.51 572.44,-94.89\"/>\n",
       "<polygon fill=\"black\" stroke=\"black\" points=\"572.05,-98.37 582.47,-96.47 573.14,-91.45 572.05,-98.37\"/>\n",
       "</g>\n",
       "<!-- 3087386783584*&#45;&gt;3087386783584 -->\n",
       "<g id=\"edge5\" class=\"edge\">\n",
       "<title>3087386783584*&#45;&gt;3087386783584</title>\n",
       "<path fill=\"none\" stroke=\"black\" d=\"M290.34,-73.5C298.51,-73.5 308.08,-73.5 318.36,-73.5\"/>\n",
       "<polygon fill=\"black\" stroke=\"black\" points=\"318.39,-77 328.39,-73.5 318.39,-70 318.39,-77\"/>\n",
       "</g>\n",
       "<!-- 3087386784112 -->\n",
       "<g id=\"node15\" class=\"node\">\n",
       "<title>3087386784112</title>\n",
       "<polygon fill=\"none\" stroke=\"black\" points=\"712,-27.5 712,-63.5 897,-63.5 897,-27.5 712,-27.5\"/>\n",
       "<text text-anchor=\"middle\" x=\"723.5\" y=\"-41.8\" font-family=\"Times New Roman,serif\" font-size=\"14.00\">b</text>\n",
       "<polyline fill=\"none\" stroke=\"black\" points=\"735,-27.5 735,-63.5 \"/>\n",
       "<text text-anchor=\"middle\" x=\"775\" y=\"-41.8\" font-family=\"Times New Roman,serif\" font-size=\"14.00\">data 6.8814</text>\n",
       "<polyline fill=\"none\" stroke=\"black\" points=\"815,-27.5 815,-63.5 \"/>\n",
       "<text text-anchor=\"middle\" x=\"856\" y=\"-41.8\" font-family=\"Times New Roman,serif\" font-size=\"14.00\">grad 0.5000</text>\n",
       "</g>\n",
       "<!-- 3087386784112&#45;&gt;3087386775616+ -->\n",
       "<g id=\"edge7\" class=\"edge\">\n",
       "<title>3087386784112&#45;&gt;3087386775616+</title>\n",
       "<path fill=\"none\" stroke=\"black\" d=\"M897.15,-58.29C920.61,-61.56 944.48,-64.89 963.2,-67.5\"/>\n",
       "<polygon fill=\"black\" stroke=\"black\" points=\"962.93,-71 973.32,-68.92 963.9,-64.07 962.93,-71\"/>\n",
       "</g>\n",
       "</g>\n",
       "</svg>\n"
      ],
      "text/plain": [
       "<graphviz.graphs.Digraph at 0x2ced68b20f0>"
      ]
     },
     "execution_count": 10,
     "metadata": {},
     "output_type": "execute_result"
    }
   ],
   "source": [
    "draw_dot(o) #grad represents the derivative of the output with respect to the element"
   ]
  },
  {
   "cell_type": "code",
   "execution_count": 11,
   "id": "de2d0364-45d2-4149-9665-997e03e7b932",
   "metadata": {},
   "outputs": [],
   "source": [
    "#dL/de=-2=dL/dd*dd/de; d(c+e)/de or dc always 1 so dL/dd=dL/de. loccal and \n",
    "#global gradient. local is derivative of next node with respect to current node."
   ]
  },
  {
   "cell_type": "code",
   "execution_count": 12,
   "id": "bbb6e3e1-6f7e-4be3-9bac-65ba2720c3d0",
   "metadata": {},
   "outputs": [],
   "source": [
    "# we need a way to automate this.\n",
    "# we are never going to call backward on node before running everything after it.\n",
    "# So we can use topological sort."
   ]
  },
  {
   "cell_type": "code",
   "execution_count": 48,
   "id": "add1cc36-dca3-4130-9754-a501e77c6050",
   "metadata": {},
   "outputs": [],
   "source": [
    "class Neuron: # nin is how many inputs it will take\n",
    "    def __init__(self,nin):\n",
    "        self.w=[Value(random.uniform(-1,1)) for _ in range(nin)]\n",
    "        self.b=Value(random.uniform(-1,1))\n",
    "    def __call__(self,x): # we can feed list n(x) where x is a list\n",
    "        act=sum((wi*xi for wi,xi in zip(self.w,x)),self.b) \n",
    "        out=act.tanh()\n",
    "        return out\n",
    "    def parameters(self):\n",
    "        return self.w+[self.b]\n",
    "class Layer: # how many neurons in one layer\n",
    "    def __init__(self,nin,nout):\n",
    "        self.neurons = [Neuron(nin) for _ in range(nout)]\n",
    "    def __call__(self,x):\n",
    "        outs=[n(x) for n in self.neurons]\n",
    "        return outs[0] if len(outs)==1 else outs\n",
    "    def parameters(self):\n",
    "        params=[]\n",
    "        for neuron in self.neurons:\n",
    "            ps=neuron.parameters()\n",
    "            params.extend(ps)\n",
    "        return params\n",
    "            \n",
    "class MLP:\n",
    "    def __init__(self,nin,nouts):\n",
    "        sz=[nin]+nouts\n",
    "        self.layers=[Layer(sz[i],sz[i+1]) for i in range(len(nouts))]\n",
    "    def __call__(self,x):\n",
    "        for layer in self.layers:\n",
    "            x=layer(x)\n",
    "        return x\n",
    "    def parameters(self):\n",
    "        return [p for layer in self.layers for p in layer.parameters()]"
   ]
  },
  {
   "cell_type": "code",
   "execution_count": 72,
   "id": "f82a5d72-217f-425a-8883-ca001324aad0",
   "metadata": {},
   "outputs": [],
   "source": [
    "n=MLP(3,[4,4,1])\n"
   ]
  },
  {
   "cell_type": "code",
   "execution_count": 73,
   "id": "c54acd16-6d41-49d7-9ec9-7cf247842fab",
   "metadata": {},
   "outputs": [
    {
     "data": {
      "text/plain": [
       "[Value(data=0.07082294914466969),\n",
       " Value(data=-0.6872591775444559),\n",
       " Value(data=0.991151309532458),\n",
       " Value(data=-0.548201580036807),\n",
       " Value(data=0.8461393221375908),\n",
       " Value(data=-0.08244575830443668),\n",
       " Value(data=-0.07541820815587164),\n",
       " Value(data=0.704491991695817),\n",
       " Value(data=0.04620797223283657),\n",
       " Value(data=0.8510467655476952),\n",
       " Value(data=0.11980328252204031),\n",
       " Value(data=0.6134028991799534),\n",
       " Value(data=-0.4065062431763973),\n",
       " Value(data=0.730062373039436),\n",
       " Value(data=0.4256978347518603),\n",
       " Value(data=0.8664173072500647),\n",
       " Value(data=-0.8411221344584559),\n",
       " Value(data=0.5650691372691405),\n",
       " Value(data=-0.2872873713237185),\n",
       " Value(data=0.9686119405952305),\n",
       " Value(data=0.5012757005498691),\n",
       " Value(data=-0.12367973235166985),\n",
       " Value(data=-0.5658369389443305),\n",
       " Value(data=0.48334755547008523),\n",
       " Value(data=0.22117131123847966),\n",
       " Value(data=-0.9698748109850983),\n",
       " Value(data=-0.7079468227286698),\n",
       " Value(data=0.5375847267703655),\n",
       " Value(data=-0.6958938755160651),\n",
       " Value(data=0.18449973533111752),\n",
       " Value(data=-0.9511832481139464),\n",
       " Value(data=0.3267544415932431),\n",
       " Value(data=-0.2675272310822079),\n",
       " Value(data=-0.799447797899778),\n",
       " Value(data=0.2528986155995463),\n",
       " Value(data=0.46652377356408903),\n",
       " Value(data=-0.2502153329026342),\n",
       " Value(data=0.13297036574379817),\n",
       " Value(data=0.09619108660617837),\n",
       " Value(data=-0.26940420702093326),\n",
       " Value(data=0.2786292263928578)]"
      ]
     },
     "execution_count": 73,
     "metadata": {},
     "output_type": "execute_result"
    }
   ],
   "source": [
    "n.parameters()\n"
   ]
  },
  {
   "cell_type": "code",
   "execution_count": 74,
   "id": "71a074c3-d5b1-45a3-a614-511d23ec0e4a",
   "metadata": {},
   "outputs": [],
   "source": [
    "xs=[\n",
    "    [2.0,3.0,-1.0],\n",
    "    [3.0,-1.0,0.5],\n",
    "    [0.5,1.0,1.0],\n",
    "    [1.0,1.0,-1.0]\n",
    "]\n",
    "ys=[1.0,-1.0,-1.0,1.0] # desired targets\n",
    "# binary classifier"
   ]
  },
  {
   "cell_type": "code",
   "execution_count": 75,
   "id": "3dd1df85-cc16-4e79-af84-7f3f49c81de1",
   "metadata": {},
   "outputs": [],
   "source": [
    "ypred=[n(x) for x in xs]"
   ]
  },
  {
   "cell_type": "code",
   "execution_count": 76,
   "id": "4f06bff9-4a3f-4616-b8af-5937ac78658c",
   "metadata": {},
   "outputs": [
    {
     "data": {
      "text/plain": [
       "[Value(data=0.08682526372318804),\n",
       " Value(data=0.05145931981992074),\n",
       " Value(data=-0.027614081526367434),\n",
       " Value(data=0.07316538813722887)]"
      ]
     },
     "execution_count": 76,
     "metadata": {},
     "output_type": "execute_result"
    }
   ],
   "source": [
    "ypred"
   ]
  },
  {
   "cell_type": "code",
   "execution_count": 77,
   "id": "d46946a7-fe22-4af1-92b5-51688fb36903",
   "metadata": {},
   "outputs": [],
   "source": [
    "loss=sum((yout-ygt)**2 for ygt, yout in zip(ys,ypred))\n",
    "#l=[(yout-ygt)**2 for ygt, yout in zip(ys,ypred)]"
   ]
  },
  {
   "cell_type": "code",
   "execution_count": 78,
   "id": "d1940d9c-b957-42c6-ab9b-630dcb722d08",
   "metadata": {},
   "outputs": [],
   "source": [
    "loss.backward()"
   ]
  },
  {
   "cell_type": "code",
   "execution_count": 79,
   "id": "8a94ce98-d412-493f-9e28-fe6f1c88511a",
   "metadata": {},
   "outputs": [
    {
     "data": {
      "text/plain": [
       "0.3723589605286566"
      ]
     },
     "execution_count": 79,
     "metadata": {},
     "output_type": "execute_result"
    }
   ],
   "source": [
    "n.layers[0].neurons[2].w[2].grad"
   ]
  },
  {
   "cell_type": "code",
   "execution_count": 80,
   "id": "80179ec7-39a3-4854-9ec6-f03728faa07d",
   "metadata": {},
   "outputs": [
    {
     "data": {
      "text/plain": [
       "[Value(data=0.07082294914466969),\n",
       " Value(data=-0.6872591775444559),\n",
       " Value(data=0.991151309532458),\n",
       " Value(data=-0.548201580036807),\n",
       " Value(data=0.8461393221375908),\n",
       " Value(data=-0.08244575830443668),\n",
       " Value(data=-0.07541820815587164),\n",
       " Value(data=0.704491991695817),\n",
       " Value(data=0.04620797223283657),\n",
       " Value(data=0.8510467655476952),\n",
       " Value(data=0.11980328252204031),\n",
       " Value(data=0.6134028991799534),\n",
       " Value(data=-0.4065062431763973),\n",
       " Value(data=0.730062373039436),\n",
       " Value(data=0.4256978347518603),\n",
       " Value(data=0.8664173072500647),\n",
       " Value(data=-0.8411221344584559),\n",
       " Value(data=0.5650691372691405),\n",
       " Value(data=-0.2872873713237185),\n",
       " Value(data=0.9686119405952305),\n",
       " Value(data=0.5012757005498691),\n",
       " Value(data=-0.12367973235166985),\n",
       " Value(data=-0.5658369389443305),\n",
       " Value(data=0.48334755547008523),\n",
       " Value(data=0.22117131123847966),\n",
       " Value(data=-0.9698748109850983),\n",
       " Value(data=-0.7079468227286698),\n",
       " Value(data=0.5375847267703655),\n",
       " Value(data=-0.6958938755160651),\n",
       " Value(data=0.18449973533111752),\n",
       " Value(data=-0.9511832481139464),\n",
       " Value(data=0.3267544415932431),\n",
       " Value(data=-0.2675272310822079),\n",
       " Value(data=-0.799447797899778),\n",
       " Value(data=0.2528986155995463),\n",
       " Value(data=0.46652377356408903),\n",
       " Value(data=-0.2502153329026342),\n",
       " Value(data=0.13297036574379817),\n",
       " Value(data=0.09619108660617837),\n",
       " Value(data=-0.26940420702093326),\n",
       " Value(data=0.2786292263928578)]"
      ]
     },
     "execution_count": 80,
     "metadata": {},
     "output_type": "execute_result"
    }
   ],
   "source": [
    "n.parameters()"
   ]
  },
  {
   "cell_type": "code",
   "execution_count": 63,
   "id": "49e80e6c-3b2a-4a0c-be24-b0a817dc0645",
   "metadata": {},
   "outputs": [],
   "source": [
    "for p in n.parameters():\n",
    "    p.data+=-0.01*p.grad"
   ]
  },
  {
   "cell_type": "code",
   "execution_count": 64,
   "id": "ead28c93-a958-4c49-9fb0-f9ab455ba2f5",
   "metadata": {},
   "outputs": [
    {
     "data": {
      "text/plain": [
       "Value(data=6.085652846709369)"
      ]
     },
     "execution_count": 64,
     "metadata": {},
     "output_type": "execute_result"
    }
   ],
   "source": [
    "ypred=[n(x) for x in xs]\n",
    "ypred\n",
    "loss=sum((yout-ygt)**2 for ygt, yout in zip(ys,ypred))\n",
    "loss"
   ]
  },
  {
   "cell_type": "code",
   "execution_count": 82,
   "id": "7d0be161-303d-4cae-89c4-e7d75432f537",
   "metadata": {},
   "outputs": [
    {
     "name": "stdout",
     "output_type": "stream",
     "text": [
      "0 0.008211173942893921\n",
      "1 0.008116656400430479\n",
      "2 0.008024211572378457\n",
      "3 0.007933773060117227\n",
      "4 0.007845277246078523\n",
      "5 0.007758663150511016\n",
      "6 0.007673872296969066\n",
      "7 0.00759084858591461\n",
      "8 0.007509538175868389\n",
      "9 0.007429889371591511\n"
     ]
    }
   ],
   "source": [
    "for k in range(10):\n",
    "    #forward pass \n",
    "    ypred=[n(x) for x in xs]\n",
    "    loss=sum((yout-ygt)**2 for ygt, yout in zip(ys,ypred))\n",
    "\n",
    "    #backward pass\n",
    "    for p in n.parameters():\n",
    "        p.grad=0.0\n",
    "    loss.backward()\n",
    "\n",
    "    #update \n",
    "    for p in n.parameters():\n",
    "        p.data += -0.05*p.grad\n",
    "    print(k,loss.data)"
   ]
  },
  {
   "cell_type": "code",
   "execution_count": 66,
   "id": "f1870256-023f-4e6e-863a-a93e27a92192",
   "metadata": {},
   "outputs": [
    {
     "data": {
      "text/plain": [
       "[Value(data=-15.864237928285323),\n",
       " Value(data=7.268251045692276),\n",
       " Value(data=-12.7530958720318),\n",
       " Value(data=-9.12323575974535),\n",
       " Value(data=-11.127636245542966),\n",
       " Value(data=-16.445741483260765),\n",
       " Value(data=-2.6796583297498007),\n",
       " Value(data=-12.956859067201426),\n",
       " Value(data=2.363320009177417),\n",
       " Value(data=-10.459624017820001),\n",
       " Value(data=20.973386247195247),\n",
       " Value(data=-0.9024029043521495),\n",
       " Value(data=-8.627393053158674),\n",
       " Value(data=-7.658103885226935),\n",
       " Value(data=26.819428492068003),\n",
       " Value(data=3.2612363366459003),\n",
       " Value(data=-12.70768832161924),\n",
       " Value(data=10.076808193556118),\n",
       " Value(data=15.499560053279815),\n",
       " Value(data=-11.203783143631487),\n",
       " Value(data=-7.780584430261992),\n",
       " Value(data=0.3990904912150344),\n",
       " Value(data=2.0903885993648244),\n",
       " Value(data=-18.409379424722506),\n",
       " Value(data=-1.5694661634673026),\n",
       " Value(data=-6.683245379727292),\n",
       " Value(data=-5.482440441568917),\n",
       " Value(data=4.3601782714789294),\n",
       " Value(data=22.64153978742972),\n",
       " Value(data=-4.754969304079065),\n",
       " Value(data=2.037126876506394),\n",
       " Value(data=1.2996516154842586),\n",
       " Value(data=2.4961818046081996),\n",
       " Value(data=9.566100467049372),\n",
       " Value(data=-7.2623918932232066),\n",
       " Value(data=12.876877163597639),\n",
       " Value(data=20.760662089783185),\n",
       " Value(data=18.83127707484574),\n",
       " Value(data=-44.10616076765311),\n",
       " Value(data=4.4131360030230065),\n",
       " Value(data=-6.510076791552892)]"
      ]
     },
     "execution_count": 66,
     "metadata": {},
     "output_type": "execute_result"
    }
   ],
   "source": [
    "n.parameters()"
   ]
  },
  {
   "cell_type": "code",
   "execution_count": 83,
   "id": "09c456cc-b384-442b-8bc9-9eb015d6b025",
   "metadata": {},
   "outputs": [
    {
     "data": {
      "text/plain": [
       "[Value(data=0.9641477476298995),\n",
       " Value(data=-0.9751464430522835),\n",
       " Value(data=-0.9428327476842445),\n",
       " Value(data=0.9524740982063938)]"
      ]
     },
     "execution_count": 83,
     "metadata": {},
     "output_type": "execute_result"
    }
   ],
   "source": [
    "ypred"
   ]
  },
  {
   "cell_type": "code",
   "execution_count": null,
   "id": "3dcb4229-c566-43cd-97d9-976f5d6eaa21",
   "metadata": {},
   "outputs": [],
   "source": []
  }
 ],
 "metadata": {
  "kernelspec": {
   "display_name": "Python 3 (ipykernel)",
   "language": "python",
   "name": "python3"
  },
  "language_info": {
   "codemirror_mode": {
    "name": "ipython",
    "version": 3
   },
   "file_extension": ".py",
   "mimetype": "text/x-python",
   "name": "python",
   "nbconvert_exporter": "python",
   "pygments_lexer": "ipython3",
   "version": "3.12.4"
  }
 },
 "nbformat": 4,
 "nbformat_minor": 5
}
